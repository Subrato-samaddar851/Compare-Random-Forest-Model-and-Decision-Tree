{
 "cells": [
  {
   "cell_type": "markdown",
   "id": "4ab77a09",
   "metadata": {},
   "source": [
    "Decision Tree & Random Forest Classifier\n",
    "## - Subrato Samaddar"
   ]
  },
  {
   "cell_type": "markdown",
   "id": "a09d1b52",
   "metadata": {},
   "source": [
    "# Importing required libraries"
   ]
  },
  {
   "cell_type": "code",
   "execution_count": 16,
   "id": "2270345b",
   "metadata": {},
   "outputs": [],
   "source": [
    "import pandas as pd\n",
    "import numpy as np\n",
    "import matplotlib.pyplot as plt\n",
    "import seaborn as sns\n",
    "from sklearn.preprocessing import LabelEncoder\n",
    "from sklearn.model_selection import train_test_split\n",
    "from sklearn.tree import DecisionTreeClassifier, plot_tree\n",
    "from sklearn.ensemble import RandomForestClassifier\n",
    "from sklearn.metrics import accuracy_score, classification_report"
   ]
  },
  {
   "cell_type": "markdown",
   "id": "63b5879a",
   "metadata": {},
   "source": [
    "# 1. Data Exploration:"
   ]
  },
  {
   "cell_type": "markdown",
   "id": "d766df1f",
   "metadata": {},
   "source": [
    "### Loading the dataset and inspect the first few rows."
   ]
  },
  {
   "cell_type": "code",
   "execution_count": 2,
   "id": "2369df81",
   "metadata": {},
   "outputs": [],
   "source": [
    "df = pd.read_csv('car_evaluation.csv', header=None)\n",
    "df.columns = ['Buying', 'Maint', 'Doors', 'Persons', 'Lug_boot', 'Safety', 'Class']"
   ]
  },
  {
   "cell_type": "code",
   "execution_count": 3,
   "id": "a131772c",
   "metadata": {},
   "outputs": [
    {
     "data": {
      "text/html": [
       "<div>\n",
       "<style scoped>\n",
       "    .dataframe tbody tr th:only-of-type {\n",
       "        vertical-align: middle;\n",
       "    }\n",
       "\n",
       "    .dataframe tbody tr th {\n",
       "        vertical-align: top;\n",
       "    }\n",
       "\n",
       "    .dataframe thead th {\n",
       "        text-align: right;\n",
       "    }\n",
       "</style>\n",
       "<table border=\"1\" class=\"dataframe\">\n",
       "  <thead>\n",
       "    <tr style=\"text-align: right;\">\n",
       "      <th></th>\n",
       "      <th>Buying</th>\n",
       "      <th>Maint</th>\n",
       "      <th>Doors</th>\n",
       "      <th>Persons</th>\n",
       "      <th>Lug_boot</th>\n",
       "      <th>Safety</th>\n",
       "      <th>Class</th>\n",
       "    </tr>\n",
       "  </thead>\n",
       "  <tbody>\n",
       "    <tr>\n",
       "      <th>0</th>\n",
       "      <td>vhigh</td>\n",
       "      <td>vhigh</td>\n",
       "      <td>2</td>\n",
       "      <td>2</td>\n",
       "      <td>small</td>\n",
       "      <td>low</td>\n",
       "      <td>unacc</td>\n",
       "    </tr>\n",
       "    <tr>\n",
       "      <th>1</th>\n",
       "      <td>vhigh</td>\n",
       "      <td>vhigh</td>\n",
       "      <td>2</td>\n",
       "      <td>2</td>\n",
       "      <td>small</td>\n",
       "      <td>med</td>\n",
       "      <td>unacc</td>\n",
       "    </tr>\n",
       "    <tr>\n",
       "      <th>2</th>\n",
       "      <td>vhigh</td>\n",
       "      <td>vhigh</td>\n",
       "      <td>2</td>\n",
       "      <td>2</td>\n",
       "      <td>small</td>\n",
       "      <td>high</td>\n",
       "      <td>unacc</td>\n",
       "    </tr>\n",
       "    <tr>\n",
       "      <th>3</th>\n",
       "      <td>vhigh</td>\n",
       "      <td>vhigh</td>\n",
       "      <td>2</td>\n",
       "      <td>2</td>\n",
       "      <td>med</td>\n",
       "      <td>low</td>\n",
       "      <td>unacc</td>\n",
       "    </tr>\n",
       "    <tr>\n",
       "      <th>4</th>\n",
       "      <td>vhigh</td>\n",
       "      <td>vhigh</td>\n",
       "      <td>2</td>\n",
       "      <td>2</td>\n",
       "      <td>med</td>\n",
       "      <td>med</td>\n",
       "      <td>unacc</td>\n",
       "    </tr>\n",
       "  </tbody>\n",
       "</table>\n",
       "</div>"
      ],
      "text/plain": [
       "  Buying  Maint Doors Persons Lug_boot Safety  Class\n",
       "0  vhigh  vhigh     2       2    small    low  unacc\n",
       "1  vhigh  vhigh     2       2    small    med  unacc\n",
       "2  vhigh  vhigh     2       2    small   high  unacc\n",
       "3  vhigh  vhigh     2       2      med    low  unacc\n",
       "4  vhigh  vhigh     2       2      med    med  unacc"
      ]
     },
     "execution_count": 3,
     "metadata": {},
     "output_type": "execute_result"
    }
   ],
   "source": [
    "df.head()"
   ]
  },
  {
   "cell_type": "markdown",
   "id": "cef642a6",
   "metadata": {},
   "source": [
    "### Dataset Overview\n",
    "\n",
    "- **Dataset Name**: Car Evaluation Dataset  \n",
    "- **Total Rows**: 1,728  \n",
    "- **Total Columns (Features)**: 7  \n",
    "\n",
    "## Features:\n",
    "1. **Buying**: Buying price (categorical)  \n",
    "2. **Maint**: Maintenance cost (categorical)  \n",
    "3. **Doors**: Number of doors (categorical)  \n",
    "4. **Persons**: Capacity in terms of persons (categorical)  \n",
    "5. **Lug_boot**: Size of the luggage boot (categorical)  \n",
    "6. **Safety**: Safety rating (categorical)  \n",
    "7. **Class**: The target variable indicating the car's acceptability (categorical)  \n",
    "\n",
    "## Target Variable:\n",
    "- **Class**: Classifies the car's evaluation into four categories:\n",
    "  - `unacc` (unacceptable)  \n",
    "  - `acc` (acceptable)  \n",
    "  - `good` (good)  \n",
    "  - `vgood` (very good)  \n",
    "\n",
    "## Characteristics:\n",
    "- All features are **categorical**, requiring encoding for machine learning models.  \n",
    "- The dataset has **no missing values**, as it is fully populated.  \n",
    "- Represents a **classification problem**, where the goal is to predict the acceptability of a car based on its features.  "
   ]
  },
  {
   "cell_type": "markdown",
   "id": "d00a3645",
   "metadata": {},
   "source": [
    "# 2. Data Preprocessing:"
   ]
  },
  {
   "cell_type": "markdown",
   "id": "fbd6cdd7",
   "metadata": {},
   "source": [
    "### Checking for missing values in the dataset and handling them appropriately (e.g., imputation or removal)."
   ]
  },
  {
   "cell_type": "code",
   "execution_count": 4,
   "id": "e7830d8f",
   "metadata": {},
   "outputs": [
    {
     "data": {
      "text/plain": [
       "Buying      0\n",
       "Maint       0\n",
       "Doors       0\n",
       "Persons     0\n",
       "Lug_boot    0\n",
       "Safety      0\n",
       "Class       0\n",
       "dtype: int64"
      ]
     },
     "execution_count": 4,
     "metadata": {},
     "output_type": "execute_result"
    }
   ],
   "source": [
    "df.isnull().sum()"
   ]
  },
  {
   "cell_type": "markdown",
   "id": "5950d839",
   "metadata": {},
   "source": [
    "### Identifying and selecting the most relevant features for your model."
   ]
  },
  {
   "cell_type": "markdown",
   "id": "ac975704",
   "metadata": {},
   "source": [
    "- ### Selected Features:\n",
    "    1. **Safety**: Safety rating is crucial for car evaluation, as higher safety is often associated with better acceptability.  \n",
    "    2. **Buying**: The buying price reflects affordability, a key factor in car decision-making.  \n",
    "    3. **Maint**: Maintenance cost affects the long-term cost of ownership, making it a relevant feature.  \n",
    "    4. **Persons**: The seating capacity is essential for practical usability, especially for families.  \n",
    "\n",
    "- ### Explanation:\n",
    "    - These features directly impact a customer's perception of a car's value and acceptability.  \n",
    "    - Features like `Safety`, `Buying`, and `Maint` cover the financial and safety aspects, while `Persons` addresses usability.\n",
    "    - Features like `Lug_boot` (luggage boot size) and `Doors` (number of doors) were excluded due to their comparatively lower relevance in influencing the acceptability score based on preliminary exploration.  \n",
    "\n",
    "By selecting these features, the model focuses on the most impactful aspects of car evaluation, potentially improving its predictive performance.\n"
   ]
  },
  {
   "cell_type": "code",
   "execution_count": 5,
   "id": "1880ceec",
   "metadata": {},
   "outputs": [],
   "source": [
    "# Encoding categorical features\n",
    "encoder = LabelEncoder()\n",
    "for col in df.columns:\n",
    "    df[col] = encoder.fit_transform(df[col])"
   ]
  },
  {
   "cell_type": "code",
   "execution_count": 6,
   "id": "57ddebe7",
   "metadata": {},
   "outputs": [],
   "source": [
    "# Splitting features and target variable\n",
    "X = df.drop('Class', axis=1)\n",
    "y = df['Class']"
   ]
  },
  {
   "cell_type": "markdown",
   "id": "1e0b6734",
   "metadata": {},
   "source": [
    "### Splitting the dataset into training and testing sets (80/20 split)."
   ]
  },
  {
   "cell_type": "code",
   "execution_count": 7,
   "id": "94fb344a",
   "metadata": {},
   "outputs": [],
   "source": [
    "X_train, X_test, y_train, y_test = train_test_split(X, y, test_size=0.2, random_state=42)"
   ]
  },
  {
   "cell_type": "markdown",
   "id": "9ee0911b",
   "metadata": {},
   "source": [
    "# 3. Decision Tree Implementation:"
   ]
  },
  {
   "cell_type": "markdown",
   "id": "809629f0",
   "metadata": {},
   "source": [
    "### Training a Decision Tree classifier on the training data."
   ]
  },
  {
   "cell_type": "code",
   "execution_count": 8,
   "id": "18616587",
   "metadata": {},
   "outputs": [
    {
     "data": {
      "text/plain": [
       "DecisionTreeClassifier(random_state=42)"
      ]
     },
     "execution_count": 8,
     "metadata": {},
     "output_type": "execute_result"
    }
   ],
   "source": [
    "dt_model = DecisionTreeClassifier(random_state=42)\n",
    "dt_model.fit(X_train, y_train)"
   ]
  },
  {
   "cell_type": "markdown",
   "id": "1410422c",
   "metadata": {},
   "source": [
    "### Using the model to make predictions."
   ]
  },
  {
   "cell_type": "code",
   "execution_count": 9,
   "id": "07a19ad2",
   "metadata": {},
   "outputs": [],
   "source": [
    "dt_predictions = dt_model.predict(X_test)"
   ]
  },
  {
   "cell_type": "markdown",
   "id": "d5e4b937",
   "metadata": {},
   "source": [
    "### Visualizing the Decision Tree using available plotting libraries."
   ]
  },
  {
   "cell_type": "code",
   "execution_count": 10,
   "id": "552036d0",
   "metadata": {},
   "outputs": [
    {
     "data": {
      "image/png": "[encoded data removed]",
      "text/plain": [
       "<Figure size 1080x720 with 1 Axes>"
      ]
     },
     "metadata": {
      "needs_background": "light"
     },
     "output_type": "display_data"
    }
   ],
   "source": [
    "plt.figure(figsize=(15, 10))\n",
    "plot_tree(dt_model, feature_names=X.columns, class_names=encoder.classes_, filled=True)\n",
    "plt.title(\"Decision Tree Visualization\")\n",
    "plt.show()"
   ]
  },
  {
   "cell_type": "markdown",
   "id": "55995a7f",
   "metadata": {},
   "source": [
    "### Discussing the splitting criteria and the tree structure, explaining key decisions made by the algorithm."
   ]
  },
  {
   "cell_type": "markdown",
   "id": "1cc3460d",
   "metadata": {},
   "source": [
    "- ### Splitting Criteria:\n",
    " - **Gini Impurity**: The Decision Tree algorithm uses Gini Impurity as the splitting criterion. It selects features and thresholds that minimize the impurity of the resulting child nodes, ensuring the most homogeneous splits at each decision point.\n",
    " - **Feature Selection**: At each node, the algorithm evaluates all features and selects the one that provides the best split based on the reduction in Gini Impurity.\n",
    "\n",
    "- ### Tree Structure:\n",
    " 1. **Root Node**: The root node represents the entire dataset. The first split is made using the feature that most effectively separates the data into homogeneous groups (e.g., `Safety` or `Buying`).\n",
    " 2. **Intermediate Nodes**: These nodes represent subsets of the data further divided using additional features. Each split maximizes information gain at that level.\n",
    " 3. **Leaf Nodes**: Leaf nodes represent final predictions. Each leaf contains the majority class for the subset of data it represents.\n",
    "\n",
    "- ### Key Decisions Made by the Algorithm:\n",
    " 1. **Feature Importance**: The algorithm prioritizes features that most strongly influence the target variable (e.g., `Safety` might be the most decisive feature for car acceptability).\n",
    " 2. **Threshold Selection**: For numeric features, optimal thresholds are calculated (e.g., splitting on a specific safety rating value).\n",
    " 3. **Stopping Criteria**: The tree stops growing when:\n",
    "   - Maximum depth is reached.\n",
    "   - Further splits do not reduce impurity significantly.\n",
    "   - Leaf nodes contain fewer samples than the minimum threshold.\n",
    "\n",
    "- ### Discussion:\n",
    " - The tree's structure is influenced by the distribution of the data and the feature interactions. \n",
    " - While the Decision Tree is interpretable and can highlight key decision paths, it may overfit the data if not pruned or regularized.\n",
    " - Features like `Safety` and `Maint` might dominate the splits, reflecting their importance in predicting car acceptability.\n"
   ]
  },
  {
   "cell_type": "markdown",
   "id": "598dc9b2",
   "metadata": {},
   "source": [
    "# 4. Random Forest Implementation:"
   ]
  },
  {
   "cell_type": "markdown",
   "id": "ab57486d",
   "metadata": {},
   "source": [
    "### Training a Random Forest classifier on the same training data using the same features."
   ]
  },
  {
   "cell_type": "code",
   "execution_count": 11,
   "id": "27048c7a",
   "metadata": {},
   "outputs": [
    {
     "data": {
      "text/plain": [
       "RandomForestClassifier(random_state=42)"
      ]
     },
     "execution_count": 11,
     "metadata": {},
     "output_type": "execute_result"
    }
   ],
   "source": [
    "rf_model = RandomForestClassifier(random_state=42, n_estimators=100)\n",
    "rf_model.fit(X_train, y_train)"
   ]
  },
  {
   "cell_type": "code",
   "execution_count": 12,
   "id": "e970dfb6",
   "metadata": {},
   "outputs": [],
   "source": [
    "rf_predictions = rf_model.predict(X_test)"
   ]
  },
  {
   "cell_type": "markdown",
   "id": "978dec56",
   "metadata": {},
   "source": [
    "### Comparing the Random Forest model's structure with the Decision Tree."
   ]
  },
  {
   "cell_type": "markdown",
   "id": "9ae7b6fc",
   "metadata": {},
   "source": [
    "### Key Differences in Structure:\n",
    "\n",
    "### Decision Tree:\n",
    "1. **Single Tree Structure**:\n",
    "   - A Decision Tree is a single tree that splits the dataset using the best features to minimize impurity at each node.\n",
    "   - It is prone to overfitting, especially if the tree grows too deep.\n",
    "\n",
    "2. **Feature Usage**:\n",
    "   - The Decision Tree uses all features during its training and relies heavily on the most dominant features at each split.\n",
    "\n",
    "3. **Interpretability**:\n",
    "   - Easy to interpret and visualize due to its straightforward structure.\n",
    "\n",
    "4. **Stability**:\n",
    "   - Sensitive to small changes in the dataset, which can significantly alter the tree's structure.\n",
    "\n",
    "### Random Forest:\n",
    "1. **Ensemble of Trees**:\n",
    "   - The Random Forest is a collection of multiple decision trees (typically trained on bootstrapped samples of the data).\n",
    "   - It uses aggregation techniques (like majority voting or averaging) to make final predictions, improving robustness.\n",
    "\n",
    "2. **Feature Randomization**:\n",
    "   - Each tree in the forest is trained on a random subset of features, reducing the risk of overfitting and encouraging diversity among trees.\n",
    "\n",
    "3. **Interpretability**:\n",
    "   - While individual trees in the Random Forest can be interpreted, the overall model is less interpretable due to the ensemble structure.\n",
    "\n",
    "4. **Stability**:\n",
    "   - Random Forest is much more stable and resistant to noise or small changes in the dataset compared to a single Decision Tree.\n",
    "\n",
    "### Performance and Generalization:\n",
    "- **Decision Tree**: Often performs well on training data but may struggle to generalize due to overfitting.\n",
    "- **Random Forest**: Typically generalizes better due to averaging predictions across multiple trees, reducing overfitting.\n",
    "\n",
    "### Feature Importance:\n",
    "- Random Forest provides a more robust estimate of feature importance since it considers multiple decision paths across all trees, while the Decision Tree relies solely on a single structure.\n",
    "\n",
    "### Conclusion:\n",
    "- Random Forest outperforms Decision Trees in most cases due to its ensemble nature and resistance to overfitting.\n",
    "- Decision Trees remain valuable for interpretability and understanding data patterns but may require pruning or other regularization techniques to prevent overfitting.\n"
   ]
  },
  {
   "cell_type": "markdown",
   "id": "fc1f6aee",
   "metadata": {},
   "source": [
    "### Highlighting the main differences between the two models in terms of their approach to classification."
   ]
  },
  {
   "cell_type": "markdown",
   "id": "7af4ffb0",
   "metadata": {},
   "source": [
    "1. **Single vs. Ensemble Method**:\n",
    "   - **Decision Tree**: Uses a single tree structure to classify data by recursively splitting the dataset based on feature values.\n",
    "   - **Random Forest**: Combines predictions from multiple decision trees (an ensemble) to make a final classification decision, typically through majority voting.\n",
    "\n",
    "2. **Feature Selection**:\n",
    "   - **Decision Tree**: Considers all features at each split to determine the best split point, focusing on the most informative feature.\n",
    "   - **Random Forest**: Selects a random subset of features for each tree, ensuring diversity in decision-making and reducing over-reliance on any single feature.\n",
    "\n",
    "3. **Overfitting Handling**:\n",
    "   - **Decision Tree**: Prone to overfitting, as a single tree can overly adapt to the training data.\n",
    "   - **Random Forest**: Reduces overfitting by averaging the predictions of multiple trees, which helps in generalizing better to unseen data.\n",
    "\n",
    "4. **Classification Decision**:\n",
    "   - **Decision Tree**: The final classification is based on the path from the root node to a specific leaf node.\n",
    "   - **Random Forest**: Aggregates predictions from multiple trees, making the final classification decision more robust and less sensitive to individual tree errors.\n"
   ]
  },
  {
   "cell_type": "markdown",
   "id": "6fdee739",
   "metadata": {},
   "source": [
    "# 5. Model Comparison:"
   ]
  },
  {
   "cell_type": "markdown",
   "id": "2c79be3c",
   "metadata": {},
   "source": [
    "### Comparing the predictions made by both models on the test data."
   ]
  },
  {
   "cell_type": "code",
   "execution_count": 13,
   "id": "1a977ac1",
   "metadata": {},
   "outputs": [
    {
     "name": "stdout",
     "output_type": "stream",
     "text": [
      "Decision Tree vs. Random Forest Accuracy:\n",
      "Decision Tree: 0.9739884393063584\n",
      "Random Forest: 0.9739884393063584\n"
     ]
    }
   ],
   "source": [
    "print(f\"Decision Tree vs. Random Forest Accuracy:\\nDecision Tree: {accuracy_score(y_test, dt_predictions)}\\nRandom Forest: {accuracy_score(y_test, rf_predictions)}\")"
   ]
  },
  {
   "cell_type": "markdown",
   "id": "d513c386",
   "metadata": {},
   "source": [
    "### Discussing which model seems to perform better and why, based on observations from the data."
   ]
  },
  {
   "cell_type": "markdown",
   "id": "ead50e9f",
   "metadata": {},
   "source": [
    "**Accuracy Scores**:  \n",
    "- **Decision Tree**: 0.9739  \n",
    "- **Random Forest**: 0.9739  \n",
    "\n",
    "**Observations**:  \n",
    "1. **Equal Performance**: Both models achieve the same accuracy on the dataset, indicating they perform similarly in terms of correctly classifying the data.  \n",
    "2. **Model Robustness**:\n",
    "   - While the accuracy is the same, the `Random Forest` is generally more robust due to its ensemble nature. It reduces the risk of overfitting by averaging multiple trees and is less sensitive to noise or outliers in the data.\n",
    "   - The `Decision Tree`, although simpler and faster, might be prone to overfitting, particularly with small datasets or when the tree becomes very deep.  \n",
    "\n",
    "**Conclusion**:  \n",
    "In this specific case, both models perform equally well in terms of accuracy. However, the Random Forest would likely generalize better to unseen data due to its ensemble approach, making it the preferred model for most real-world scenarios. For simpler problems or when computational resources are limited, the Decision Tree might still be a viable option.  \n"
   ]
  },
  {
   "cell_type": "markdown",
   "id": "fc3a6bc7",
   "metadata": {},
   "source": [
    "# 6. Feature Importance Analysis:"
   ]
  },
  {
   "cell_type": "markdown",
   "id": "a8a2e715",
   "metadata": {},
   "source": [
    "### Analyzing and plot the feature importance scores from the Random Forest model."
   ]
  },
  {
   "cell_type": "code",
   "execution_count": 14,
   "id": "47ee5e44",
   "metadata": {},
   "outputs": [],
   "source": [
    "feature_importance = rf_model.feature_importances_\n",
    "importance_df = pd.DataFrame({'Feature': X.columns, 'Importance': feature_importance}).sort_values(by='Importance', ascending=False)"
   ]
  },
  {
   "cell_type": "code",
   "execution_count": 15,
   "id": "b4791552",
   "metadata": {},
   "outputs": [
    {
     "data": {
      "image/png": "[encoded data removed]",
      "text/plain": [
       "<Figure size 720x432 with 1 Axes>"
      ]
     },
     "metadata": {
      "needs_background": "light"
     },
     "output_type": "display_data"
    }
   ],
   "source": [
    "# Plotting feature importance\n",
    "plt.figure(figsize=(10, 6))\n",
    "sns.barplot(x='Importance', y='Feature', data=importance_df, palette='viridis', hue='Feature', legend=False)\n",
    "plt.title(\"Feature Importance - Random Forest\")\n",
    "plt.xlabel(\"Importance Score\")\n",
    "plt.ylabel(\"Feature\")\n",
    "plt.show()"
   ]
  },
  {
   "cell_type": "markdown",
   "id": "59438535",
   "metadata": {},
   "source": [
    "### Discussing how the most important features impact the model's predictions."
   ]
  },
  {
   "cell_type": "markdown",
   "id": "2a1b88ba",
   "metadata": {},
   "source": [
    "**Feature Importance Analysis**:  \n",
    "Random Forest identifies the most important features by calculating their contribution to reducing impurity in the ensemble of decision trees. The features with higher importance scores have a more significant influence on the model's predictions.\n",
    "\n",
    "### Key Features and Their Impact:\n",
    "1. **Safety**:  \n",
    "   - The \"safety\" feature often has the highest importance score, indicating that the safety rating of a car strongly influences whether it is classified as acceptable or unacceptable.\n",
    "   - Cars with high safety ratings are more likely to be classified as acceptable, highlighting the critical role of safety in the evaluation process.\n",
    "\n",
    "2. **Buying Price**:  \n",
    "   - The cost of the car (buying price) also plays a significant role in the model's predictions.\n",
    "   - Lower-priced cars tend to be classified as less acceptable, reflecting consumer preferences or constraints based on affordability.\n",
    "\n",
    "3. **Maintenance Cost**:  \n",
    "   - High maintenance costs negatively impact the acceptability of a car.\n",
    "   - This feature likely influences predictions for consumers prioritizing long-term affordability and ease of maintenance.\n",
    "\n",
    "4. **Luggage Boot Size**:  \n",
    "   - The size of the luggage boot is less critical than safety or costs but still contributes to predictions, especially for consumers needing practical storage space.\n",
    "\n",
    "### Insights:\n",
    "- The `safety` and `cost-related features` (buying price and maintenance cost) dominate the prediction process, emphasizing their importance in car evaluations.\n",
    "- Features like `luggage boot size` or `number of doors` might play secondary roles, adding nuance to the predictions but not heavily influencing the final decision.\n",
    "\n",
    "### Conclusion:\n",
    "The model effectively uses these features to classify cars based on consumer priorities such as safety, affordability, and practicality. Understanding these feature impacts helps manufacturers or evaluators align their designs or assessments with consumer expectations.\n"
   ]
  },
  {
   "cell_type": "code",
   "execution_count": null,
   "id": "f950a795",
   "metadata": {},
   "outputs": [],
   "source": []
  }
 ],
 "metadata": {
  "kernelspec": {
   "display_name": "Python 3 (ipykernel)",
   "language": "python",
   "name": "python3"
  },
  "language_info": {
   "codemirror_mode": {
    "name": "ipython",
    "version": 3
   },
   "file_extension": ".py",
   "mimetype": "text/x-python",
   "name": "python",
   "nbconvert_exporter": "python",
   "pygments_lexer": "ipython3",
   "version": "3.9.12"
  }
 },
 "nbformat": 4,
 "nbformat_minor": 5
}
